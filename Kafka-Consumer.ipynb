{
 "cells": [
  {
   "cell_type": "code",
   "execution_count": 12,
   "id": "77bcb071-cb30-418e-bfaf-454919e4ed83",
   "metadata": {
    "tags": []
   },
   "outputs": [],
   "source": [
    "import pandas as pd\n",
    "from kafka import KafkaConsumer\n",
    "from time import sleep\n",
    "from json import dumps, loads\n",
    "import json\n",
    "from s3fs import S3FileSystem"
   ]
  },
  {
   "cell_type": "code",
   "execution_count": 11,
   "id": "5740a1f9-f18b-48d9-b1a4-87f5714f3fd4",
   "metadata": {
    "collapsed": true,
    "jupyter": {
     "outputs_hidden": true
    },
    "tags": []
   },
   "outputs": [
    {
     "name": "stdout",
     "output_type": "stream",
     "text": [
      "Collecting s3fs\n",
      "  Downloading s3fs-2023.4.0-py3-none-any.whl (28 kB)\n",
      "Collecting fsspec==2023.4.0\n",
      "  Downloading fsspec-2023.4.0-py3-none-any.whl (153 kB)\n",
      "     ---------------------------------------- 0.0/154.0 kB ? eta -:--:--\n",
      "     ------------------------------ ------- 122.9/154.0 kB 3.6 MB/s eta 0:00:01\n",
      "     -------------------------------------- 154.0/154.0 kB 3.1 MB/s eta 0:00:00\n",
      "Requirement already satisfied: aiohttp!=4.0.0a0,!=4.0.0a1 in c:\\users\\danie\\appdata\\roaming\\jupyterlab-desktop\\jlab_server\\lib\\site-packages (from s3fs) (3.8.4)\n",
      "Collecting aiobotocore~=2.5.0\n",
      "  Downloading aiobotocore-2.5.0-py3-none-any.whl (72 kB)\n",
      "     ---------------------------------------- 0.0/72.7 kB ? eta -:--:--\n",
      "     ---------------------------------------- 72.7/72.7 kB 3.9 MB/s eta 0:00:00\n",
      "Collecting wrapt>=1.10.10\n",
      "  Downloading wrapt-1.15.0-cp38-cp38-win_amd64.whl (36 kB)\n",
      "Collecting aioitertools>=0.5.1\n",
      "  Downloading aioitertools-0.11.0-py3-none-any.whl (23 kB)\n",
      "Collecting botocore<1.29.77,>=1.29.76\n",
      "  Downloading botocore-1.29.76-py3-none-any.whl (10.4 MB)\n",
      "     ---------------------------------------- 0.0/10.4 MB ? eta -:--:--\n",
      "     ------- -------------------------------- 2.0/10.4 MB 42.3 MB/s eta 0:00:01\n",
      "     ---------------- ----------------------- 4.4/10.4 MB 46.4 MB/s eta 0:00:01\n",
      "     ------------------------- -------------- 6.8/10.4 MB 47.9 MB/s eta 0:00:01\n",
      "     --------------------------------- ------ 8.7/10.4 MB 46.1 MB/s eta 0:00:01\n",
      "     ------------------------------------- -- 9.9/10.4 MB 42.2 MB/s eta 0:00:01\n",
      "     --------------------------------------- 10.4/10.4 MB 36.4 MB/s eta 0:00:00\n",
      "Requirement already satisfied: charset-normalizer<4.0,>=2.0 in c:\\users\\danie\\appdata\\roaming\\jupyterlab-desktop\\jlab_server\\lib\\site-packages (from aiohttp!=4.0.0a0,!=4.0.0a1->s3fs) (2.1.1)\n",
      "Requirement already satisfied: aiosignal>=1.1.2 in c:\\users\\danie\\appdata\\roaming\\jupyterlab-desktop\\jlab_server\\lib\\site-packages (from aiohttp!=4.0.0a0,!=4.0.0a1->s3fs) (1.3.1)\n",
      "Requirement already satisfied: yarl<2.0,>=1.0 in c:\\users\\danie\\appdata\\roaming\\jupyterlab-desktop\\jlab_server\\lib\\site-packages (from aiohttp!=4.0.0a0,!=4.0.0a1->s3fs) (1.8.2)\n",
      "Requirement already satisfied: multidict<7.0,>=4.5 in c:\\users\\danie\\appdata\\roaming\\jupyterlab-desktop\\jlab_server\\lib\\site-packages (from aiohttp!=4.0.0a0,!=4.0.0a1->s3fs) (6.0.4)\n",
      "Requirement already satisfied: attrs>=17.3.0 in c:\\users\\danie\\appdata\\roaming\\jupyterlab-desktop\\jlab_server\\lib\\site-packages (from aiohttp!=4.0.0a0,!=4.0.0a1->s3fs) (22.2.0)\n",
      "Requirement already satisfied: async-timeout<5.0,>=4.0.0a3 in c:\\users\\danie\\appdata\\roaming\\jupyterlab-desktop\\jlab_server\\lib\\site-packages (from aiohttp!=4.0.0a0,!=4.0.0a1->s3fs) (4.0.2)\n",
      "Requirement already satisfied: frozenlist>=1.1.1 in c:\\users\\danie\\appdata\\roaming\\jupyterlab-desktop\\jlab_server\\lib\\site-packages (from aiohttp!=4.0.0a0,!=4.0.0a1->s3fs) (1.3.3)\n",
      "Requirement already satisfied: typing_extensions>=4.0 in c:\\users\\danie\\appdata\\roaming\\jupyterlab-desktop\\jlab_server\\lib\\site-packages (from aioitertools>=0.5.1->aiobotocore~=2.5.0->s3fs) (4.5.0)\n",
      "Requirement already satisfied: python-dateutil<3.0.0,>=2.1 in c:\\users\\danie\\appdata\\roaming\\jupyterlab-desktop\\jlab_server\\lib\\site-packages (from botocore<1.29.77,>=1.29.76->aiobotocore~=2.5.0->s3fs) (2.8.2)\n",
      "Requirement already satisfied: urllib3<1.27,>=1.25.4 in c:\\users\\danie\\appdata\\roaming\\jupyterlab-desktop\\jlab_server\\lib\\site-packages (from botocore<1.29.77,>=1.29.76->aiobotocore~=2.5.0->s3fs) (1.26.15)\n",
      "Collecting jmespath<2.0.0,>=0.7.1\n",
      "  Downloading jmespath-1.0.1-py3-none-any.whl (20 kB)\n",
      "Requirement already satisfied: idna>=2.0 in c:\\users\\danie\\appdata\\roaming\\jupyterlab-desktop\\jlab_server\\lib\\site-packages (from yarl<2.0,>=1.0->aiohttp!=4.0.0a0,!=4.0.0a1->s3fs) (3.4)\n",
      "Requirement already satisfied: six>=1.5 in c:\\users\\danie\\appdata\\roaming\\jupyterlab-desktop\\jlab_server\\lib\\site-packages (from python-dateutil<3.0.0,>=2.1->botocore<1.29.77,>=1.29.76->aiobotocore~=2.5.0->s3fs) (1.16.0)\n",
      "Installing collected packages: wrapt, jmespath, fsspec, aioitertools, botocore, aiobotocore, s3fs\n",
      "Successfully installed aiobotocore-2.5.0 aioitertools-0.11.0 botocore-1.29.76 fsspec-2023.4.0 jmespath-1.0.1 s3fs-2023.4.0 wrapt-1.15.0\n",
      "Note: you may need to restart the kernel to use updated packages.\n"
     ]
    }
   ],
   "source": [
    "pip install s3fs"
   ]
  },
  {
   "cell_type": "code",
   "execution_count": null,
   "id": "4917fefb-c3e7-44d3-b327-9c8d15241628",
   "metadata": {},
   "outputs": [],
   "source": []
  },
  {
   "cell_type": "code",
   "execution_count": 7,
   "id": "641dd4d4-48ff-4898-8098-9a3f68be7776",
   "metadata": {
    "tags": []
   },
   "outputs": [],
   "source": [
    "Consumer = KafkaConsumer(\"messages\",\n",
    "                         bootstrap_servers='localhost:9092',\n",
    "                         value_deserializer=lambda x:\n",
    "                         loads(x.decode('utf-8')))"
   ]
  },
  {
   "cell_type": "code",
   "execution_count": 13,
   "id": "e7172295-a16c-4e06-9e02-1e49c0095c89",
   "metadata": {
    "tags": []
   },
   "outputs": [],
   "source": [
    "s3 = S3FileSystem()"
   ]
  },
  {
   "cell_type": "code",
   "execution_count": null,
   "id": "59de7dfb-f81e-4b4e-b262-b82ce6a02dcf",
   "metadata": {
    "tags": []
   },
   "outputs": [],
   "source": [
    "for count, i in enumerate(Consumer):\n",
    "    with s3.open(\"s3://amazon-sales-kafka-dl/stock_market_{}.json\".format(count), 'w') as file:\n",
    "                 json.dump(i.value, file)\n",
    "    "
   ]
  },
  {
   "cell_type": "code",
   "execution_count": null,
   "id": "a96316ac-abc0-4f97-b41f-7f1cc088532f",
   "metadata": {},
   "outputs": [],
   "source": []
  }
 ],
 "metadata": {
  "kernelspec": {
   "display_name": "Python 3 (ipykernel)",
   "language": "python",
   "name": "python3"
  },
  "language_info": {
   "codemirror_mode": {
    "name": "ipython",
    "version": 3
   },
   "file_extension": ".py",
   "mimetype": "text/x-python",
   "name": "python",
   "nbconvert_exporter": "python",
   "pygments_lexer": "ipython3",
   "version": "3.8.16"
  }
 },
 "nbformat": 4,
 "nbformat_minor": 5
}
